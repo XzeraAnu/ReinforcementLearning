{
  "nbformat": 4,
  "nbformat_minor": 0,
  "metadata": {
    "colab": {
      "provenance": []
    },
    "kernelspec": {
      "name": "python3",
      "display_name": "Python 3"
    },
    "language_info": {
      "name": "python"
    }
  },
  "cells": [
    {
      "cell_type": "markdown",
      "source": [
        "Importing Libraries"
      ],
      "metadata": {
        "id": "O_JL5LS2TmHv"
      }
    },
    {
      "cell_type": "code",
      "execution_count": 4,
      "metadata": {
        "id": "4Iov_yXPTe7v"
      },
      "outputs": [],
      "source": [
        "import numpy as np\n",
        "import matplotlib.pyplot as plt\n",
        "import pandas as pd\n",
        "import math\n",
        "import random"
      ]
    },
    {
      "cell_type": "markdown",
      "source": [
        "Creating the Armed Bandits(Slot Machines) in the casino with some random rewards and winning probabilities"
      ],
      "metadata": {
        "id": "8hUQ-5iqTop5"
      }
    },
    {
      "cell_type": "code",
      "source": [
        "Machines = [[10,0,1,0,5,0,0,1,0,1],\n",
        "[1,1,1,0,1,5,0,1,0,5],\n",
        "[0,0,0,0,20,0,0,0,0,1],\n",
        "[0,0,0,0,0,25,0,0,0,0],\n",
        "[10,0,0,1,1,0,0,0,0,1]]"
      ],
      "metadata": {
        "id": "ZJH6ATvmTkMt"
      },
      "execution_count": 24,
      "outputs": []
    },
    {
      "cell_type": "markdown",
      "source": [
        "Implementing UCB1 Algorithm"
      ],
      "metadata": {
        "id": "oPLHlLhAU0OW"
      }
    },
    {
      "cell_type": "code",
      "source": [
        "N = 200 # We get 1000 coins for $1000 but we spend first 200 exploring and exploiting\n",
        "d = 5   # Number of Machines\n",
        "Machine_selected = [] \n",
        "Number_of_selections = [0]*d\n",
        "Sum_of_rewards = [0]*d\n",
        "total_reward = 0\n",
        "for n in range(0,N):\n",
        "  mach = 0\n",
        "  max_upper_bound = 0\n",
        "  for i in range(0,d):\n",
        "    if Number_of_selections[i]>0:\n",
        "      average_reward = Sum_of_rewards[i] / Number_of_selections[i] #Exploitation\n",
        "      delta_i = math.sqrt(3/2 * math.log(n + 1) / Number_of_selections[i]) #Exploration\n",
        "      upper_bound = average_reward + delta_i\n",
        "    else:\n",
        "      upper_bound = 1e40000\n",
        "    if upper_bound > max_upper_bound:\n",
        "      max_upper_bound = upper_bound\n",
        "      mach = i\n",
        "  Machine_selected.append(mach+1)\n",
        "  Number_of_selections[mach]+=1\n",
        "  reward = random.choice(Machines[mach])\n",
        "  Sum_of_rewards[mach]+=reward\n",
        "  total_reward+=reward\n"
      ],
      "metadata": {
        "id": "r_6fa447UzEs"
      },
      "execution_count": 28,
      "outputs": []
    },
    {
      "cell_type": "code",
      "source": [
        "print(Sum_of_rewards)\n",
        "print(total_reward) #Profit made"
      ],
      "metadata": {
        "colab": {
          "base_uri": "https://localhost:8080/"
        },
        "id": "Ek-vr3yfX7Eg",
        "outputId": "e0dae2aa-8ad6-4ba3-de2b-96c7c402cc0d"
      },
      "execution_count": 31,
      "outputs": [
        {
          "output_type": "stream",
          "name": "stdout",
          "text": [
            "[4, 264, 0, 0, 3]\n",
            "271\n"
          ]
        }
      ]
    },
    {
      "cell_type": "markdown",
      "source": [
        "Visualizing Results in Histogram"
      ],
      "metadata": {
        "id": "PqS0kHjYacCU"
      }
    },
    {
      "cell_type": "code",
      "source": [
        "plt.hist(Machine_selected)\n",
        "plt.title('Histogram of Machine selections')\n",
        "plt.xlabel('Machines')\n",
        "plt.ylabel('Number of times each Machine was selected')\n",
        "plt.show()"
      ],
      "metadata": {
        "colab": {
          "base_uri": "https://localhost:8080/",
          "height": 295
        },
        "id": "WNcSW_zTXqe6",
        "outputId": "9831a8a0-10f4-4672-8f27-5d46438fec5e"
      },
      "execution_count": 30,
      "outputs": [
        {
          "output_type": "display_data",
          "data": {
            "text/plain": [
              "<Figure size 432x288 with 1 Axes>"
            ],
            "image/png": "[encoded data removed]"
          },
          "metadata": {
            "needs_background": "light"
          }
        }
      ]
    }
  ]
}